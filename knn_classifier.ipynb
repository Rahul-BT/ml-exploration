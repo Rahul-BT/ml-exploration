{
 "cells": [
  {
   "cell_type": "code",
   "execution_count": 470,
   "metadata": {},
   "outputs": [],
   "source": [
    "# Import the required libraries\n",
    "import pandas as pd\n",
    "import numpy as np\n",
    "import matplotlib.pyplot as plt\n",
    "import math\n",
    "\n",
    "%matplotlib inline"
   ]
  },
  {
   "cell_type": "markdown",
   "metadata": {},
   "source": [
    "### Input (X,Y)\n",
    "Initialize the input points X,Y for knn classification and plot a scatter graph"
   ]
  },
  {
   "cell_type": "code",
   "execution_count": 474,
   "metadata": {},
   "outputs": [
    {
     "data": {
      "image/png": "[encoded data removed]",
      "text/plain": [
       "<Figure size 432x288 with 1 Axes>"
      ]
     },
     "metadata": {
      "needs_background": "light"
     },
     "output_type": "display_data"
    }
   ],
   "source": [
    "np.random.seed(1)\n",
    "x = np.random.randint(0,100,50)\n",
    "y = np.random.randint(0,100,50)\n",
    "plt.scatter(x,y)\n",
    "plt.title(\"X vs Y plot\")\n",
    "plt.xlabel(\"X\")\n",
    "plt.ylabel(\"Y\")\n",
    "plt.show()"
   ]
  },
  {
   "cell_type": "markdown",
   "metadata": {},
   "source": [
    "## KNN Classifier\n",
    "Define the knn algorithm for classification for the (X,Y) input.\n",
    "1. Random Initialize the k-centroid points\n",
    "2. Calculate the dist between each (x,y) against each k-centroid point\n",
    "3. Find the min dist and assign class to that (x,y) point based on the index of the centroid used\n",
    "4. Find the cost function by using the min dist for each (x,y)\n",
    "5. Update the centroid position by finding the average value of (x,y) points assigned to it\n",
    "6. Repeat steps 2-5 to get the min cost\n",
    "\n",
    "### 1. Cost Function\n",
    "Cost function is $J = \\frac{1}{m}\\sqrt{(x-kx)^2 + (y-ky)^2}$ <br>\n",
    "&nbsp;&nbsp;&nbsp;&nbsp; where **(kx,ky)** is the x,y co-ordinate of the k-centroid point and <br>\n",
    "&nbsp;&nbsp;&nbsp;&nbsp; **m** is the no of examples.\n",
    "\n",
    "**NOTE:** The Cost function used here $\\frac{1}{m}[(x-kx)^2 + (y-ky)^2]$ since we are trying to minimize the cost it does not matter if we use sqrt or not. Hence removing the sqrt to save processing time.\n",
    "\n",
    "### 2. Update centroid points\n",
    "Change the (x,y) co-ordinates to all k-centroids based on the Average of the input points that are assigned to it.\n",
    "\n",
    "$ki = \\frac{x1+x2+...+xn}{n}, \\frac{y1+y2+...+yn}{n}$ <br>\n",
    "&nbsp;&nbsp;&nbsp;&nbsp; where **ki** is ith k-centroid point, <br>\n",
    "&nbsp;&nbsp;&nbsp;&nbsp; **x1,x2,...,xn** and **y1,y2,...,yn** are the (x,y) co-ordinates of the input points that is classified w.r.t the ith centroid point is the no of examples."
   ]
  },
  {
   "cell_type": "code",
   "execution_count": 475,
   "metadata": {},
   "outputs": [],
   "source": [
    "class Knn_Classification():\n",
    "    def __init__(self, x, y, k=3):\n",
    "        self.k = k # no. of centroid points\n",
    "        self.m = len(x) # no of input points\n",
    "        self.cls = np.zeros(self.m) # classifier_list -> will have the index of the centroid with min distance\n",
    "        self.cost = 0\n",
    "        \n",
    "        # Random init the k-centroid points\n",
    "        self.centroid = list(zip(np.random.randint(np.min(x),np.max(x),k),np.random.randint(np.min(y),np.max(x),k)))\n",
    "         \n",
    "    def assign_class(self,x,y):\n",
    "        self.cost = 0\n",
    "        for i in range(self.m):\n",
    "            dist = []\n",
    "            for p in range(len(self.centroid)):\n",
    "                # Calculate the dist between k points to (x,y)\n",
    "                # dist.append(math.sqrt((x[i]-self.centroid[p][0])**2 + (y[i]-self.centroid[p][1])**2))\n",
    "                dist.append((x[i]-self.centroid[p][0])**2 + (y[i]-self.centroid[p][1])**2)\n",
    "                \n",
    "            # Assign classifier_list with index of min. dist\n",
    "            self.cls[i] = np.argmin(dist)\n",
    "            \n",
    "            # Add the min. dist to the cost function\n",
    "            self.cost += np.min(dist)/self.m\n",
    "        \n",
    "        # Convert the index to int type -> [0., 1., 2.] changed to [0,1,2]\n",
    "        # Required for colors in scatter plot\n",
    "        self.cls = self.cls.astype(int)\n",
    "    \n",
    "    def update_centroid(self,x,y):\n",
    "        for i in range(self.k):\n",
    "            idx = np.where(self.cls==i)\n",
    "            self.centroid[i] = (np.mean(x[idx]), np.mean(y[idx]))\n",
    "    \n",
    "    def plot_graph(self,x,y):\n",
    "        colormap = np.array(['tab:blue','tab:orange','tab:green','tab:red','tab:purple','tab:brown',\n",
    "           'tab:pink','tab:grey','tab:olive','tab:cyan'])\n",
    "        plt.scatter(x,y,s=100,c=colormap[self.cls])\n",
    "        plt.scatter(list(zip(*self.centroid))[0], list(zip(*self.centroid))[1], s=50,c='k')\n",
    "        plt.title(\"KNN classification with k={} points\".format(self.k))\n",
    "        plt.xlabel(\"X\")\n",
    "        plt.ylabel(\"Y\")\n",
    "        plt.show()\n",
    "        print(\"Cost: {}\\nCentroids:\".format(self.cost), end=' ')\n",
    "        for i in self.centroid:\n",
    "            print(\"({:.2f},{:.2f})\".format(i[0],i[1]), end=' ')\n",
    "    "
   ]
  },
  {
   "cell_type": "code",
   "execution_count": 482,
   "metadata": {},
   "outputs": [
    {
     "name": "stdout",
     "output_type": "stream",
     "text": [
      "Minimum Cost details \n",
      "Cost=234.43866300366298\n",
      "Centroids: (69.42,23.42) (16.42,19.50) (6.67,78.67) (17.29,49.86) (75.08,74.23) "
     ]
    }
   ],
   "source": [
    "# Random init the classifier and find the best fit\n",
    "cost = []\n",
    "cent = []\n",
    "epoch = 50\n",
    "for j in range(10):\n",
    "    iter_cost = []\n",
    "    t = Knn_Classification(x,y,k=5)\n",
    "    for i in range(epoch):\n",
    "        t.assign_class(x,y)\n",
    "        iter_cost.append(t.cost)\n",
    "        t.update_centroid(x,y)\n",
    "    \n",
    "    cost.append(t.cost)\n",
    "    cent.append(t.centroid)\n",
    "#     print(\"Run {}\".format(j))\n",
    "#     plt.scatter(x=range(epoch), y=iter_cost)\n",
    "#     plt.xlabel(\"No. of Iterations\")\n",
    "#     plt.ylabel(\"Cost\")\n",
    "#     plt.show()\n",
    "\n",
    "# Find min cost and its corresponding centroids\n",
    "t.centroid = cent[np.argmin(cost)]\n",
    "t.assign_class(x,y)\n",
    "print(\"Minimum Cost details \\nCost={}\\nCentroids:\".format(t.cost), end=' ')\n",
    "for i in t.centroid:\n",
    "    print(\"({:.2f},{:.2f})\".format(i[0],i[1]), end=' ')"
   ]
  },
  {
   "cell_type": "markdown",
   "metadata": {},
   "source": [
    "### KNN Classification Plot\n",
    "Plot the scatter plot for the centroid points that have the least cost. The points in black represent the final k-centroid points that gives the least cost.\n",
    "\n",
    "The Cost and the co-ordinates for the k-centroids are also shown."
   ]
  },
  {
   "cell_type": "code",
   "execution_count": 483,
   "metadata": {},
   "outputs": [
    {
     "data": {
      "image/png": "[encoded data removed]",
      "text/plain": [
       "<Figure size 432x288 with 1 Axes>"
      ]
     },
     "metadata": {
      "needs_background": "light"
     },
     "output_type": "display_data"
    },
    {
     "name": "stdout",
     "output_type": "stream",
     "text": [
      "Cost: 234.43866300366298\n",
      "Centroids: (69.42,23.42) (16.42,19.50) (6.67,78.67) (17.29,49.86) (75.08,74.23) "
     ]
    }
   ],
   "source": [
    "t.plot_graph(x,y)"
   ]
  }
 ],
 "metadata": {
  "kernelspec": {
   "display_name": "Python 3",
   "language": "python",
   "name": "python3"
  },
  "language_info": {
   "codemirror_mode": {
    "name": "ipython",
    "version": 3
   },
   "file_extension": ".py",
   "mimetype": "text/x-python",
   "name": "python",
   "nbconvert_exporter": "python",
   "pygments_lexer": "ipython3",
   "version": "3.8.5"
  }
 },
 "nbformat": 4,
 "nbformat_minor": 4
}
